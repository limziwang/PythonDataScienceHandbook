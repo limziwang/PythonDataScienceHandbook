{
 "cells": [
  {
   "cell_type": "code",
   "execution_count": 16,
   "metadata": {
    "collapsed": true
   },
   "outputs": [],
   "source": [
    "import numpy as np\n",
<<<<<<< HEAD
    "import pandas as pd\n",
    "import matplotlib.pyplot as plt\n",
    "plt.style.use(\"classic\")\n",
    "%matplotlib inline"
=======
    "import pandas as pd"
>>>>>>> 83b1516f9ff9761c2787f803a8d9b0008e50ca5f
   ]
  },
  {
   "cell_type": "code",
   "execution_count": 2,
   "metadata": {},
   "outputs": [
    {
     "data": {
      "text/plain": [
       "array([1, 2, 3, 4, 5, 6, 1, 2, 3])"
      ]
     },
     "execution_count": 2,
     "metadata": {},
     "output_type": "execute_result"
    }
   ],
   "source": [
    "x = np.array([1,2,3,4,5,6])\n",
    "y = np.array([1,2,3])\n",
    "np.concatenate([x,y])"
   ]
  },
  {
   "cell_type": "code",
   "execution_count": 3,
   "metadata": {},
   "outputs": [
    {
     "data": {
      "text/plain": [
       "array([1, 2, 3, 4, 5, 6, 1, 2, 3])"
      ]
     },
     "execution_count": 3,
     "metadata": {},
     "output_type": "execute_result"
    }
   ],
   "source": [
    "np.hstack([x,y])"
   ]
  },
  {
   "cell_type": "code",
   "execution_count": 4,
   "metadata": {},
   "outputs": [
    {
     "data": {
      "text/plain": [
       "array([[ 1,  2,  3,  4,  5,  6],\n",
       "       [ 7,  8,  9, 10, 11, 12]])"
      ]
     },
     "execution_count": 4,
     "metadata": {},
     "output_type": "execute_result"
    }
   ],
   "source": [
    "z = np.array([7,8,9,10,11,12])\n",
    "xz = np.vstack([x,z])\n",
    "xz"
   ]
  },
  {
   "cell_type": "code",
   "execution_count": 5,
   "metadata": {},
   "outputs": [
    {
     "data": {
      "text/plain": [
       "[array([[ 1,  2,  3,  4,  5,  6],\n",
       "        [ 7,  8,  9, 10, 11, 12]]), array([], shape=(0, 6), dtype=int32)]"
      ]
     },
     "execution_count": 5,
     "metadata": {},
     "output_type": "execute_result"
    }
   ],
   "source": [
    "np.vsplit(xz, [3])"
   ]
  },
  {
   "cell_type": "code",
   "execution_count": 6,
   "metadata": {},
   "outputs": [
    {
     "name": "stdout",
     "output_type": "stream",
     "text": [
      "0    1.0\n",
      "1    2.0\n",
      "2    3.0\n",
      "3    4.0\n",
      "4    5.0\n",
      "dtype: float64\n"
     ]
    }
   ],
   "source": [
    "pdseries = pd.Series([1,2,3,4,5.0])\n",
    "print(pdseries)"
   ]
  },
  {
   "cell_type": "code",
   "execution_count": 7,
   "metadata": {},
   "outputs": [
    {
     "name": "stdout",
     "output_type": "stream",
     "text": [
      "[ 1.  2.  3.  4.  5.]\n"
     ]
    }
   ],
   "source": [
    "print(pdseries.values)"
   ]
  },
  {
   "cell_type": "code",
   "execution_count": 8,
   "metadata": {
    "collapsed": true
   },
   "outputs": [],
   "source": [
    "area_dict = {'California': 423967, 'Texas': 695662, 'New York': 141297, 'Florida': 170312, 'Illinois': 149995}"
   ]
  },
  {
   "cell_type": "code",
   "execution_count": 9,
   "metadata": {},
   "outputs": [
    {
     "name": "stdout",
     "output_type": "stream",
     "text": [
      "{'California': 423967, 'Texas': 695662, 'New York': 141297, 'Florida': 170312, 'Illinois': 149995}\n"
     ]
    },
    {
     "data": {
      "text/plain": [
       "dict"
      ]
     },
     "execution_count": 9,
     "metadata": {},
     "output_type": "execute_result"
    }
   ],
   "source": [
    "print(area_dict)\n",
    "type(area_dict)"
   ]
  },
  {
   "cell_type": "code",
   "execution_count": 10,
   "metadata": {},
   "outputs": [
    {
     "data": {
      "text/plain": [
       "California    423967\n",
       "Florida       170312\n",
       "Illinois      149995\n",
       "New York      141297\n",
       "Texas         695662\n",
       "dtype: int64"
      ]
     },
     "execution_count": 10,
     "metadata": {},
     "output_type": "execute_result"
    }
   ],
   "source": [
    "area_pd = pd.Series(area_dict)\n",
    "area_pd"
   ]
  },
  {
   "cell_type": "code",
   "execution_count": 11,
   "metadata": {},
   "outputs": [
    {
     "data": {
      "text/plain": [
       "range(0, 4)"
      ]
     },
     "execution_count": 11,
     "metadata": {},
     "output_type": "execute_result"
    }
   ],
   "source": [
    "range(4)"
   ]
  },
  {
   "cell_type": "code",
   "execution_count": 12,
   "metadata": {},
   "outputs": [
    {
     "name": "stdout",
     "output_type": "stream",
     "text": [
      "range(0, 4)\n"
     ]
    }
   ],
   "source": [
    "print(range(4))"
   ]
  },
  {
   "cell_type": "code",
<<<<<<< HEAD
   "execution_count": 13,
=======
   "execution_count": 14,
>>>>>>> 83b1516f9ff9761c2787f803a8d9b0008e50ca5f
   "metadata": {},
   "outputs": [
    {
     "data": {
      "text/plain": [
       "array([0, 1, 2, 3])"
      ]
     },
<<<<<<< HEAD
     "execution_count": 13,
=======
     "execution_count": 14,
>>>>>>> 83b1516f9ff9761c2787f803a8d9b0008e50ca5f
     "metadata": {},
     "output_type": "execute_result"
    }
   ],
   "source": [
    "test = np.array(range(4))\n",
    "test"
   ]
  },
  {
   "cell_type": "code",
<<<<<<< HEAD
   "execution_count": 14,
=======
   "execution_count": 15,
>>>>>>> 83b1516f9ff9761c2787f803a8d9b0008e50ca5f
   "metadata": {},
   "outputs": [
    {
     "data": {
      "text/plain": [
       "array([ 1,  6, 11, 16, 21, 26, 31, 36, 41, 46, 51, 56, 61, 66, 71, 76, 81,\n",
       "       86, 91, 96])"
      ]
     },
<<<<<<< HEAD
     "execution_count": 14,
=======
     "execution_count": 15,
>>>>>>> 83b1516f9ff9761c2787f803a8d9b0008e50ca5f
     "metadata": {},
     "output_type": "execute_result"
    }
   ],
   "source": [
    "test2 = np.array(range(1,100, 5))\n",
    "test2"
   ]
  },
  {
   "cell_type": "code",
<<<<<<< HEAD
   "execution_count": 22,
=======
   "execution_count": 16,
>>>>>>> 83b1516f9ff9761c2787f803a8d9b0008e50ca5f
   "metadata": {},
   "outputs": [
    {
     "data": {
<<<<<<< HEAD
      "image/png": "iVBORw0KGgoAAAANSUhEUgAAAXkAAAEACAYAAABWLgY0AAAABHNCSVQICAgIfAhkiAAAAAlwSFlz\nAAALEgAACxIB0t1+/AAADalJREFUeJzt3V+IpfV9x/H3J25saGNMqQ0NromWrpBFShWxelNPa9Ks\nXuzeSHCDJAZJIa0pNGlA6YWDuZAaQiBF8qc0pAlEY3LRLiFhC6mHhODKCjaSXVmZboI7mmIwxhtJ\njc23F+d0d5zO7nlm9syZ9ev7BQPnzPnNc77+mH3vM8+Zs6aqkCT19IbtHkCStHWMvCQ1ZuQlqTEj\nL0mNGXlJaszIS1JjMyOf5EtJnkvyo9M8niSfTbKc5IkkV81/TEnSZgw5k/8ysOcMj98I7Jp+/AXw\nubMfS5I0DzMjX1XfA35+hiX7gK/UxCHgrUnePq8BJUmbN49r8hcDJ1bdX5l+TpK0zeYR+azzOf+t\nBEk6B+yYwzFWgEtW3d8JPLvewiTGX5I2oarWO6GeaR5n8geAD0x/y+Za4MWq+unpFleVH1Xcfffd\n2z7DufLhXrgX7sWZP87GzDP5JA8AI+CiJCvA3cAbp8H+PPBt4CZgGXgJ+NBZTSRJmpuZka+q/TMe\nL+Cv5jaRJGlufMfrNhmNRts9wjnDvTjFvTjFvZiPnO31ng09WVKLfD5J6iAJtY0vvEqSzlFGXpIa\nM/KS1JiRl6TGjLwkNWbkJakxIy9JjRl5SWrMyEtSY0Zekhoz8pLUmJGXpMaMvCQ1ZuQlqTEjL0mN\nGXlJaszIS1JjRl6SGjPyktSYkZekxoy8JDVm5CWpMSMvSY0ZeUlqzMhLUmNGXpIaM/KS1JiRl6TG\njLwkNWbkJakxIy9JjRl5SWrMyEtSY0ZekhobFPkke5IcS7Kc5M51Hn9HkoeTPJ7kiSQ3zX9USdJG\nparOvCA5D3gKeA+wAhwG9lfV0VVrvgg8XlWfS7Ib+HZVXbrOsWrW80mSXi0JVZXNfO2QM/lrgOWq\nOl5VLwMPAvvWrCngLdPbFwLPbmYYSdJ87Riw5mLgxKr7K8Afr1mzBPxbko8CvwW8ey7TSZLOypDI\nr/cjwtprLvuBL1fVp5NcB3w1yRVV9eu1X7i0tHTy9mg0YjQaDZ9Wkl4HxuMx4/F4Lscack3+OmCp\nqt47vX8XQFXdu2rNEWBPVZ2Y3j8OXFtVz605ltfkJWmDtvqa/GFgV5LLkpwP3AIcWLPmaeCG6TDv\nAt4E/GwzA0mS5mdm5KvqFeAO4CDwJPBQVR1Jck+SvdNlHwc+nOSHwAPAbZ6yS9L2m3m5Zq5P5uUa\nSdqwrb5cI0l6jTLyktSYkZekxoy8JDVm5CWpMSMvSY0ZeUlqzMhLUmNGXpIaM/KS1JiRl6TGjLwk\nNWbkJakxIy9JjRl5SWrMyEtSY0Zekhoz8pLUmJGXpMaMvCQ1ZuQlqTEjL0mNGXlJaszIS1JjRl6S\nGjPyktSYkZekxoy8JDVm5CWpMSMvSY0ZeUlqzMhLUmNGXpIaM/KS1JiRl6TGBkU+yZ4kx5IsJ7nz\nNGvel+RokiNJvjbfMSVJm5GqOvOC5DzgKeA9wApwGNhfVUdXrdkFPAT8WVW9kORtVfXcOseqWc8n\nSXq1JFRVNvO1Q87krwGWq+p4Vb0MPAjsW7Pmw8D9VfUCwHqBlyQt3pDIXwycWHV/Zfq51S4HLk/y\ngySHkuyZ14CSpM3bMWDNej8irL3msgPYBYyAncD3k1xRVb84u/EkSWdjSORXgEtW3d8JPLvOmkNV\n9Svgx0mOMYn+4bUHW1paOnl7NBoxGo02NrEkNTcejxmPx3M51pAXXncweeH1BuAZJuF+f1UdWbVm\nD5MXYz+Y5CLgceCPqur5NcfyhVdJ2qAtfeG1ql4B7gAOAk8CD1XVkST3JNk7XXYQeD7JUeBh4BNr\nAy9JWryZZ/JzfTLP5CVpw7b6VyglSa9RRl6SGjPyktSYkZekxoy8JDVm5CWpMSMvSY0ZeUlqzMhL\nUmNGXpIaM/KS1JiRl6TGjLwkNWbkJakxIy9JjRl5SWrMyEtSY0Zekhoz8pLUmJGXpMaMvCQ1ZuQl\nqTEjL0mNGXlJaszIS1JjRl6SGjPyktSYkZekxoy8JDVm5CWpMSMvSY0ZeUlqzMhLUmNGXpIaM/KS\n1JiRl6TGBkU+yZ4kx5IsJ7nzDOtuTlJJrp7fiJKkzZoZ+STnAfcDNwK7gf1Jdq+z7gLgr4FH5z2k\nJGlzhpzJXwMsV9XxqnoZeBDYt866TwL3Ab+c43ySpLMwJPIXAydW3V+Zfu6kJFcCl1TVt+Y4myTp\nLO0YsCbrfK5OPpi8AfgMcNucZpIkzcmQyK8Al6y6vxN4dtX9C4ArgHESgN8DDiTZW1WPrT3Y0tLS\nyduj0YjRaLThoSWps/F4zHg8nsuxUlVnXpDsAJ4CbgCeAQ4D76+qI6dZPwb+dr3AJ6lZzydJerUk\nVNV6V1VmmnlNvqpeAe4ADgJPAg9V1ZEk9yTZu5knlSQtxswz+bk+mWfykrRhW3omL0l67TLyktSY\nkZekxoy8JDVm5CWpMSMvSY0ZeUlqzMhLUmNGXpIaM/KS1JiRl6TGjLwkNWbkJakxIy9JjRl5SWrM\nyEtSY0Zekhoz8pLUmJGXpMaMvCQ1ZuQlqTEjL0mNGXlJaszIS1JjRl6SGjPyktSYkZekxoy8JDVm\n5CWpMSMvSY0ZeUlqzMhLUmNGXpIaM/KS1JiRl6TGjLwkNTYo8kn2JDmWZDnJnes8/rEkR5M8keS7\nSd45/1ElSRs1M/JJzgPuB24EdgP7k+xes+xx4Oqq+kPgm8B98x5UkrRxQ87krwGWq+p4Vb0MPAjs\nW72gqh6uqpemdw8BO+c7piRpM4ZE/mLgxKr7K9PPnc7twHfOZihJ0nzsGLAm63yu1l2Y3ApcDVx/\nuoMtLS2dvD0ajRiNRgNGkKTXj/F4zHg8nsuxUrVur08tSK4DlqrqvdP7dwFU1b1r1r0b+Afg+qp6\n7jTHqlnPJ0l6tSRU1Xon3DMNuVxzGNiV5LIk5wO3AAfWDHAl8AVg7+kCL0lavJmRr6pXgDuAg8CT\nwENVdSTJPUn2Tpd9Cngz8I0k/5HkwGkOJ0laoJmXa+b6ZF6ukaQN2+rLNZKk1ygjL0mNGXlJaszI\nS1JjRl6SGjPyktSYkZekxoy8JDVm5CWpMSMvSY0ZeUlqzMhLUmNGXpIaM/KS1JiRl6TGjLwkNWbk\nJakxIy9JjRl5SWrMyEtSY0Zekhoz8pLUmJGXpMaMvCQ1ZuQlqTEjL0mNGXlJaszIS1JjRl6SGjPy\nktSYkZekxoy8JDVm5CWpMSMvSY0ZeUlqbFDkk+xJcizJcpI713n8N5J8ffr4o0kunfegkqSNmxn5\nJOcB9wM3AruB/Ul2r1l2O/BCVf0B8Bng7+c9aDfj8Xi7RzhnuBenuBenuBfzMeRM/hpguaqOV9XL\nwIPAvjVr9gH/PL39TeCGJJnfmP34DXyKe3GKe3GKezEfQyJ/MXBi1f2V6efWXVNVrwAvAr8zjwEl\nSZs3JPLrnZHXJtZIkhYsVWducZLrgKWqeu/0/l0AVXXvqjUHp2seSbID+C/gd2vNwZMYfknahKra\n1CXwHQPWHAZ2JbkMeAa4BXj/mjUHgA8CjwA3A/++NvBnM6QkaXNmRr6qXklyB3AQOA/4UlUdSXIP\n8FhVHQD+CfhqkmXg50z+IpAkbbOZl2skSa9dW/KOV988dcqAvfhYkqNJnkjy3STv3I45F2HWXqxa\nd3OSSnL1IudbpCF7keR90++NI0m+tugZF2XAn5F3JHk4yePTPyc3bcecWy3Jl5I8l+RHp3k8ST47\n3acnklw16MBVNdcPJpd0/hP4feB84IfA7jVr/hL4/PT2LcDX5z3HufAxcC/+FPjN6e2PvJ73Yrru\nAuB7wCHg6u2eexu/L3YBjwO/Pb3/tu2eexv34ovAR6a3dwM/2e65t2gv/gS4CvjRaR6/CfgOk99m\nvBZ4dMhxt+JM3jdPnTJzL6rq4ap6aXr3ELBzwTMuypDvC4BPAvcBv1zkcAs2ZC8+DNxfVS8AVNVz\nC55xUYbsRQFvmd6+EHh2gfMtTFV9j8lrmqezD/hKTRwC3prk7bOOuxWR981TpwzZi9VuZ/I3dUcz\n9yLJlcAlVfWtRQ62DYZ8X1wOXJ7kB0kOJdmzsOkWa8heLAG3JlkBvg18dDGjnXM22hNg2K9QbpRv\nnjpl8H9nkluBq4Hrt3Si7XPGvUjyBib/7tFtixpoGw35vtjB5JLNiMlPd99PckVV/WKLZ1u0IXux\nH/hyVX16+r6dr0734tdbP945ZVPd3Ioz+RXgklX3d/L/f7w6uWb65qkLOfOPKa9VQ/aCJO8G/g7Y\nW1X/vaDZFm3WXlwAXAGMk/yEyTXHA01ffB36Z+Rfq+pXVfVj4BiT6HczZC9uBx4CqKpHgDcBFy1k\nunPLoJ6stRWRP/nmqSTnM3lh9cCaNf/35ik4w5unGpi5F9NLFF9gEviu111hxl5U1YtVdVFVXVpV\nlzJ5fWJvVT22PeNuqSF/Rv6FyYvyJLmIyeWb4wudcjGG7MXTwA0ASd7FJPI/W+iU54YDwAemv2Vz\nLfBiVf101hfN/XJN+eapkwbuxaeANwPfmL72/HRV7d22obfIwL14XRi4FweBP09yFPgf4BNV9fz2\nTb01Bu7Fx4F/TPI3TC5P3NbxpDDJA0wuz100ff3hbuCNAFX1eSavR9wELAMvAR8adNyGeyVJmvJ/\n/ydJjRl5SWrMyEtSY0Zekhoz8pLUmJGXpMaMvCQ1ZuQlqbH/BWoPin4Di8SyAAAAAElFTkSuQmCC\n",
      "text/plain": [
       "<matplotlib.figure.Figure at 0x1adb59f65f8>"
      ]
     },
     "metadata": {},
     "output_type": "display_data"
    }
   ],
   "source": [
    "fig, ax = plt.subplots()"
=======
      "text/plain": [
       "(California, 2000)    33871648\n",
       "(California, 2010)    37253956\n",
       "(New York, 2000)      18976457\n",
       "(New York, 2010)      19378102\n",
       "(Texas, 2000)         20851820\n",
       "(Texas, 2010)         25145561\n",
       "dtype: int64"
      ]
     },
     "execution_count": 16,
     "metadata": {},
     "output_type": "execute_result"
    }
   ],
   "source": [
    "pop_index = [('California', 2000), \n",
    "             ('California', 2010),\n",
    "             ('New York', 2000), \n",
    "             ('New York', 2010),\n",
    "             ('Texas', 2000), \n",
    "             ('Texas', 2010)]\n",
    "populations = [33871648, 37253956,\n",
    "               18976457, 19378102,\n",
    "               20851820, 25145561]\n",
    "pop = pd.Series(populations, index=pop_index)\n",
    "pop"
   ]
  },
  {
   "cell_type": "code",
   "execution_count": 21,
   "metadata": {},
   "outputs": [
    {
     "data": {
      "text/plain": [
       "a    1\n",
       "b    2\n",
       "c    3\n",
       "d    4\n",
       "e    5\n",
       "f    6\n",
       "dtype: int64"
      ]
     },
     "execution_count": 21,
     "metadata": {},
     "output_type": "execute_result"
    }
   ],
   "source": [
    "test = pd.Series([1,2,3,4,5,6], index = ['a', 'b', 'c', 'd', 'e', 'f'])\n",
    "test"
   ]
  },
  {
   "cell_type": "code",
   "execution_count": 25,
   "metadata": {},
   "outputs": [
    {
     "data": {
      "text/plain": [
       "[]"
      ]
     },
     "execution_count": 25,
     "metadata": {},
     "output_type": "execute_result"
    }
   ],
   "source": [
    "[i for i in pop.index if i[0] == 2010]"
>>>>>>> 83b1516f9ff9761c2787f803a8d9b0008e50ca5f
   ]
  },
  {
   "cell_type": "code",
<<<<<<< HEAD
   "execution_count": 31,
=======
   "execution_count": 32,
>>>>>>> 83b1516f9ff9761c2787f803a8d9b0008e50ca5f
   "metadata": {},
   "outputs": [
    {
     "data": {
      "text/plain": [
<<<<<<< HEAD
       "array([99,  2,  3,  4,  5])"
      ]
     },
     "execution_count": 31,
=======
       "('Texas', 2000)"
      ]
     },
     "execution_count": 32,
>>>>>>> 83b1516f9ff9761c2787f803a8d9b0008e50ca5f
     "metadata": {},
     "output_type": "execute_result"
    }
   ],
   "source": [
<<<<<<< HEAD
    "array1 = array2 = np.array([1,2,3,4,5])\n",
    "array2[0] = 99\n",
    "array1"
=======
    "pop.index[4]"
>>>>>>> 83b1516f9ff9761c2787f803a8d9b0008e50ca5f
   ]
  },
  {
   "cell_type": "code",
<<<<<<< HEAD
   "execution_count": 39,
   "metadata": {
    "collapsed": true
   },
   "outputs": [],
   "source": [
    "x = np.linspace(0, 10, 10)\n",
    "# y = np.sin(x[:, np.newaxis] + np.pi * np.arange(0, 2, 0.5))"
=======
   "execution_count": 37,
   "metadata": {
    "scrolled": true
   },
   "outputs": [
    {
     "data": {
      "text/plain": [
       "(California, 2000)    33871648\n",
       "(California, 2010)    37253956\n",
       "(New York, 2000)      18976457\n",
       "(New York, 2010)      19378102\n",
       "(Texas, 2000)         20851820\n",
       "(Texas, 2010)         25145561\n",
       "dtype: int64"
      ]
     },
     "execution_count": 37,
     "metadata": {},
     "output_type": "execute_result"
    }
   ],
   "source": [
    "pop_reindex = pop.reindex(pop_index)\n",
    "pop_reindex"
>>>>>>> 83b1516f9ff9761c2787f803a8d9b0008e50ca5f
   ]
  },
  {
   "cell_type": "code",
<<<<<<< HEAD
   "execution_count": 46,
   "metadata": {},
   "outputs": [
    {
     "name": "stdout",
     "output_type": "stream",
     "text": [
      "x\n",
      " [  0.           1.11111111   2.22222222   3.33333333   4.44444444\n",
      "   5.55555556   6.66666667   7.77777778   8.88888889  10.        ]\n",
      "y1\n",
      " [[  0.           1.11111111   2.22222222   3.33333333   4.44444444\n",
      "    5.55555556   6.66666667   7.77777778   8.88888889  10.        ]]\n",
      "y2\n",
      " [[  0.        ]\n",
      " [  1.11111111]\n",
      " [  2.22222222]\n",
      " [  3.33333333]\n",
      " [  4.44444444]\n",
      " [  5.55555556]\n",
      " [  6.66666667]\n",
      " [  7.77777778]\n",
      " [  8.88888889]\n",
      " [ 10.        ]]\n",
      "y3\n",
      " [  0.           1.11111111   2.22222222   3.33333333   4.44444444\n",
      "   5.55555556   6.66666667   7.77777778   8.88888889  10.        ]\n"
     ]
    }
   ],
   "source": [
    "print(\"x\\n\",x)\n",
    "y1 = x[np.newaxis]\n",
    "y2 = x[:, np.newaxis]\n",
    "y3 = x[:]\n",
    "\n",
    "print(\"y1\\n\",y1)\n",
    "print(\"y2\\n\",y2)\n",
    "print(\"y3\\n\", y3)"
=======
   "execution_count": 42,
   "metadata": {
    "scrolled": true
   },
   "outputs": [
    {
     "data": {
      "text/plain": [
       "MultiIndex(levels=[[2000, 'California'], [2010, 'California'], [2000, 'New York'], [2010, 'New York'], [2000, 'Texas'], [2010, 'Texas']],\n",
       "           labels=[[1, 0], [1, 0], [1, 0], [1, 0], [1, 0], [1, 0]])"
      ]
     },
     "execution_count": 42,
     "metadata": {},
     "output_type": "execute_result"
    }
   ],
   "source": [
    "pop_index_2 = pd.MultiIndex.from_arrays([['California', 2000],\n",
    "                                        ['California', 2010],\n",
    "                                        ['New York', 2000],\n",
    "                                        ['New York', 2010],\n",
    "                                        ['Texas', 2000],\n",
    "                                        ['Texas', 2010]])\n",
    "pop_index_2"
   ]
  },
  {
   "cell_type": "code",
   "execution_count": 44,
   "metadata": {},
   "outputs": [
    {
     "data": {
      "text/plain": [
       "(MultiIndex(levels=[[2000, 'California'], [2010, 'California'], [2000, 'New York'], [2010, 'New York'], [2000, 'Texas'], [2010, 'Texas']],\n",
       "            labels=[[1, 0], [1, 0], [1, 0], [1, 0], [1, 0], [1, 0]]), None)"
      ]
     },
     "execution_count": 44,
     "metadata": {},
     "output_type": "execute_result"
    }
   ],
   "source": [
    "pop_reindex_2 = pop_index_2.reindex(pop_index_2)\n",
    "pop_reindex_2"
>>>>>>> 83b1516f9ff9761c2787f803a8d9b0008e50ca5f
   ]
  },
  {
   "cell_type": "code",
   "execution_count": 48,
   "metadata": {},
   "outputs": [
    {
<<<<<<< HEAD
     "data": {
      "text/plain": [
       "array([ 0. ,  0.5,  1. ,  1.5])"
      ]
     },
     "execution_count": 48,
=======
     "ename": "ValueError",
     "evalue": "arrays must all be same length",
     "output_type": "error",
     "traceback": [
      "\u001b[1;31m---------------------------------------------------------------------------\u001b[0m",
      "\u001b[1;31mValueError\u001b[0m                                Traceback (most recent call last)",
      "\u001b[1;32m<ipython-input-48-9c94b331962e>\u001b[0m in \u001b[0;36m<module>\u001b[1;34m()\u001b[0m\n\u001b[0;32m      5\u001b[0m                                 \u001b[1;36m400000\u001b[0m\u001b[1;33m,\u001b[0m\u001b[1;33m\u001b[0m\u001b[0m\n\u001b[0;32m      6\u001b[0m                                 \u001b[1;36m500000\u001b[0m\u001b[1;33m,\u001b[0m\u001b[1;33m\u001b[0m\u001b[0m\n\u001b[1;32m----> 7\u001b[1;33m                                 600000]})\n\u001b[0m",
      "\u001b[1;32mC:\\Users\\limzi\\Anaconda3\\lib\\site-packages\\pandas\\core\\frame.py\u001b[0m in \u001b[0;36m__init__\u001b[1;34m(self, data, index, columns, dtype, copy)\u001b[0m\n\u001b[0;32m    273\u001b[0m                                  dtype=dtype, copy=copy)\n\u001b[0;32m    274\u001b[0m         \u001b[1;32melif\u001b[0m \u001b[0misinstance\u001b[0m\u001b[1;33m(\u001b[0m\u001b[0mdata\u001b[0m\u001b[1;33m,\u001b[0m \u001b[0mdict\u001b[0m\u001b[1;33m)\u001b[0m\u001b[1;33m:\u001b[0m\u001b[1;33m\u001b[0m\u001b[0m\n\u001b[1;32m--> 275\u001b[1;33m             \u001b[0mmgr\u001b[0m \u001b[1;33m=\u001b[0m \u001b[0mself\u001b[0m\u001b[1;33m.\u001b[0m\u001b[0m_init_dict\u001b[0m\u001b[1;33m(\u001b[0m\u001b[0mdata\u001b[0m\u001b[1;33m,\u001b[0m \u001b[0mindex\u001b[0m\u001b[1;33m,\u001b[0m \u001b[0mcolumns\u001b[0m\u001b[1;33m,\u001b[0m \u001b[0mdtype\u001b[0m\u001b[1;33m=\u001b[0m\u001b[0mdtype\u001b[0m\u001b[1;33m)\u001b[0m\u001b[1;33m\u001b[0m\u001b[0m\n\u001b[0m\u001b[0;32m    276\u001b[0m         \u001b[1;32melif\u001b[0m \u001b[0misinstance\u001b[0m\u001b[1;33m(\u001b[0m\u001b[0mdata\u001b[0m\u001b[1;33m,\u001b[0m \u001b[0mma\u001b[0m\u001b[1;33m.\u001b[0m\u001b[0mMaskedArray\u001b[0m\u001b[1;33m)\u001b[0m\u001b[1;33m:\u001b[0m\u001b[1;33m\u001b[0m\u001b[0m\n\u001b[0;32m    277\u001b[0m             \u001b[1;32mimport\u001b[0m \u001b[0mnumpy\u001b[0m\u001b[1;33m.\u001b[0m\u001b[0mma\u001b[0m\u001b[1;33m.\u001b[0m\u001b[0mmrecords\u001b[0m \u001b[1;32mas\u001b[0m \u001b[0mmrecords\u001b[0m\u001b[1;33m\u001b[0m\u001b[0m\n",
      "\u001b[1;32mC:\\Users\\limzi\\Anaconda3\\lib\\site-packages\\pandas\\core\\frame.py\u001b[0m in \u001b[0;36m_init_dict\u001b[1;34m(self, data, index, columns, dtype)\u001b[0m\n\u001b[0;32m    409\u001b[0m             \u001b[0marrays\u001b[0m \u001b[1;33m=\u001b[0m \u001b[1;33m[\u001b[0m\u001b[0mdata\u001b[0m\u001b[1;33m[\u001b[0m\u001b[0mk\u001b[0m\u001b[1;33m]\u001b[0m \u001b[1;32mfor\u001b[0m \u001b[0mk\u001b[0m \u001b[1;32min\u001b[0m \u001b[0mkeys\u001b[0m\u001b[1;33m]\u001b[0m\u001b[1;33m\u001b[0m\u001b[0m\n\u001b[0;32m    410\u001b[0m \u001b[1;33m\u001b[0m\u001b[0m\n\u001b[1;32m--> 411\u001b[1;33m         \u001b[1;32mreturn\u001b[0m \u001b[0m_arrays_to_mgr\u001b[0m\u001b[1;33m(\u001b[0m\u001b[0marrays\u001b[0m\u001b[1;33m,\u001b[0m \u001b[0mdata_names\u001b[0m\u001b[1;33m,\u001b[0m \u001b[0mindex\u001b[0m\u001b[1;33m,\u001b[0m \u001b[0mcolumns\u001b[0m\u001b[1;33m,\u001b[0m \u001b[0mdtype\u001b[0m\u001b[1;33m=\u001b[0m\u001b[0mdtype\u001b[0m\u001b[1;33m)\u001b[0m\u001b[1;33m\u001b[0m\u001b[0m\n\u001b[0m\u001b[0;32m    412\u001b[0m \u001b[1;33m\u001b[0m\u001b[0m\n\u001b[0;32m    413\u001b[0m     \u001b[1;32mdef\u001b[0m \u001b[0m_init_ndarray\u001b[0m\u001b[1;33m(\u001b[0m\u001b[0mself\u001b[0m\u001b[1;33m,\u001b[0m \u001b[0mvalues\u001b[0m\u001b[1;33m,\u001b[0m \u001b[0mindex\u001b[0m\u001b[1;33m,\u001b[0m \u001b[0mcolumns\u001b[0m\u001b[1;33m,\u001b[0m \u001b[0mdtype\u001b[0m\u001b[1;33m=\u001b[0m\u001b[1;32mNone\u001b[0m\u001b[1;33m,\u001b[0m \u001b[0mcopy\u001b[0m\u001b[1;33m=\u001b[0m\u001b[1;32mFalse\u001b[0m\u001b[1;33m)\u001b[0m\u001b[1;33m:\u001b[0m\u001b[1;33m\u001b[0m\u001b[0m\n",
      "\u001b[1;32mC:\\Users\\limzi\\Anaconda3\\lib\\site-packages\\pandas\\core\\frame.py\u001b[0m in \u001b[0;36m_arrays_to_mgr\u001b[1;34m(arrays, arr_names, index, columns, dtype)\u001b[0m\n\u001b[0;32m   5592\u001b[0m     \u001b[1;31m# figure out the index, if necessary\u001b[0m\u001b[1;33m\u001b[0m\u001b[1;33m\u001b[0m\u001b[0m\n\u001b[0;32m   5593\u001b[0m     \u001b[1;32mif\u001b[0m \u001b[0mindex\u001b[0m \u001b[1;32mis\u001b[0m \u001b[1;32mNone\u001b[0m\u001b[1;33m:\u001b[0m\u001b[1;33m\u001b[0m\u001b[0m\n\u001b[1;32m-> 5594\u001b[1;33m         \u001b[0mindex\u001b[0m \u001b[1;33m=\u001b[0m \u001b[0mextract_index\u001b[0m\u001b[1;33m(\u001b[0m\u001b[0marrays\u001b[0m\u001b[1;33m)\u001b[0m\u001b[1;33m\u001b[0m\u001b[0m\n\u001b[0m\u001b[0;32m   5595\u001b[0m     \u001b[1;32melse\u001b[0m\u001b[1;33m:\u001b[0m\u001b[1;33m\u001b[0m\u001b[0m\n\u001b[0;32m   5596\u001b[0m         \u001b[0mindex\u001b[0m \u001b[1;33m=\u001b[0m \u001b[0m_ensure_index\u001b[0m\u001b[1;33m(\u001b[0m\u001b[0mindex\u001b[0m\u001b[1;33m)\u001b[0m\u001b[1;33m\u001b[0m\u001b[0m\n",
      "\u001b[1;32mC:\\Users\\limzi\\Anaconda3\\lib\\site-packages\\pandas\\core\\frame.py\u001b[0m in \u001b[0;36mextract_index\u001b[1;34m(data)\u001b[0m\n\u001b[0;32m   5640\u001b[0m             \u001b[0mlengths\u001b[0m \u001b[1;33m=\u001b[0m \u001b[0mlist\u001b[0m\u001b[1;33m(\u001b[0m\u001b[0mset\u001b[0m\u001b[1;33m(\u001b[0m\u001b[0mraw_lengths\u001b[0m\u001b[1;33m)\u001b[0m\u001b[1;33m)\u001b[0m\u001b[1;33m\u001b[0m\u001b[0m\n\u001b[0;32m   5641\u001b[0m             \u001b[1;32mif\u001b[0m \u001b[0mlen\u001b[0m\u001b[1;33m(\u001b[0m\u001b[0mlengths\u001b[0m\u001b[1;33m)\u001b[0m \u001b[1;33m>\u001b[0m \u001b[1;36m1\u001b[0m\u001b[1;33m:\u001b[0m\u001b[1;33m\u001b[0m\u001b[0m\n\u001b[1;32m-> 5642\u001b[1;33m                 \u001b[1;32mraise\u001b[0m \u001b[0mValueError\u001b[0m\u001b[1;33m(\u001b[0m\u001b[1;34m'arrays must all be same length'\u001b[0m\u001b[1;33m)\u001b[0m\u001b[1;33m\u001b[0m\u001b[0m\n\u001b[0m\u001b[0;32m   5643\u001b[0m \u001b[1;33m\u001b[0m\u001b[0m\n\u001b[0;32m   5644\u001b[0m             \u001b[1;32mif\u001b[0m \u001b[0mhave_dicts\u001b[0m\u001b[1;33m:\u001b[0m\u001b[1;33m\u001b[0m\u001b[0m\n",
      "\u001b[1;31mValueError\u001b[0m: arrays must all be same length"
     ]
    }
   ],
   "source": [
    "pop_df = pd.DataFrame({'total': pop_reindex_2,\n",
    "                     'under18': [100000,\n",
    "                                200000,\n",
    "                                300000,\n",
    "                                400000,\n",
    "                                500000,\n",
    "                                600000]})"
   ]
  },
  {
   "cell_type": "code",
   "execution_count": 49,
   "metadata": {},
   "outputs": [
    {
     "data": {
      "text/plain": [
       "(California, 2000)    33871648\n",
       "(California, 2010)    37253956\n",
       "(New York, 2000)      18976457\n",
       "(New York, 2010)      19378102\n",
       "(Texas, 2000)         20851820\n",
       "(Texas, 2010)         25145561\n",
       "dtype: int64"
      ]
     },
     "execution_count": 49,
>>>>>>> 83b1516f9ff9761c2787f803a8d9b0008e50ca5f
     "metadata": {},
     "output_type": "execute_result"
    }
   ],
   "source": [
<<<<<<< HEAD
    "p = np.arange(0,2,0.5)\n",
    "p"
=======
    "index = [('California', 2000), ('California', 2010),\n",
    "         ('New York', 2000), ('New York', 2010),\n",
    "         ('Texas', 2000), ('Texas', 2010)]\n",
    "populations = [33871648, 37253956,\n",
    "               18976457, 19378102,\n",
    "               20851820, 25145561]\n",
    "pop = pd.Series(populations, index=index)\n",
    "pop"
>>>>>>> 83b1516f9ff9761c2787f803a8d9b0008e50ca5f
   ]
  },
  {
   "cell_type": "code",
<<<<<<< HEAD
   "execution_count": 55,
=======
   "execution_count": 50,
>>>>>>> 83b1516f9ff9761c2787f803a8d9b0008e50ca5f
   "metadata": {},
   "outputs": [
    {
     "data": {
<<<<<<< HEAD
      "image/png": "iVBORw0KGgoAAAANSUhEUgAAAX8AAAEACAYAAABbMHZzAAAABHNCSVQICAgIfAhkiAAAAAlwSFlz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\nTpw4IE7j78SJEycOyP8BFJWy30YjhMYAAAAASUVORK5CYII=\n",
      "text/plain": [
       "<matplotlib.figure.Figure at 0x1adb4bf6cf8>"
      ]
     },
     "metadata": {},
     "output_type": "display_data"
    }
   ],
   "source": [
    "x = np.linspace(0, 10, 1000)\n",
    "y = np.sin(x[:, np.newaxis] + np.pi * np.arange(0, 2, 0.5)) \n",
    "lines = plt.plot(x, y)\n",
    "# lines is a list of plt.Line2D instances \n",
    "plt.legend(lines[:3], ['first', 'second', 'third']);"
=======
      "text/plain": [
       "MultiIndex(levels=[['California', 'New York', 'Texas'], [2000, 2010]],\n",
       "           labels=[[0, 0, 1, 1, 2, 2], [0, 1, 0, 1, 0, 1]])"
      ]
     },
     "execution_count": 50,
     "metadata": {},
     "output_type": "execute_result"
    }
   ],
   "source": [
    "index = pd.MultiIndex.from_tuples(index)\n",
    "index"
>>>>>>> 83b1516f9ff9761c2787f803a8d9b0008e50ca5f
   ]
  },
  {
   "cell_type": "code",
<<<<<<< HEAD
   "execution_count": 68,
   "metadata": {
    "scrolled": true
   },
   "outputs": [
    {
     "data": {
      "image/png": "iVBORw0KGgoAAAANSUhEUgAAAXwAAAEZCAYAAACU3p4jAAAABHNCSVQICAgIfAhkiAAAAAlwSFlz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\nRU5ErkJggg==\n",
      "text/plain": [
       "<matplotlib.figure.Figure at 0x1adb73faa58>"
      ]
     },
     "metadata": {},
     "output_type": "display_data"
    }
   ],
   "source": [
    "import pandas as pd \n",
    "cities = pd.read_csv('notebooks/data/california_cities.csv')\n",
    "# Extract the data we're interested in \n",
    "lat, lon = cities['latd'], cities['longd'] \n",
    "population, area = cities['population_total'], cities['area_total_km2']\n",
    "# Scatter the points, using size and color but no label \n",
    "plt.scatter(lon, lat, label=None, c=np.log10(population), cmap='viridis', s=area, linewidth=0, alpha=0.5)\n",
    "plt.axis(aspect='equal') \n",
    "plt.xlabel('longitude') \n",
    "plt.colorbar(label='log$_{10}$(population)')\n",
    "plt.ylabel('latitude') \n",
    "plt.clim(3, 7)\n",
    "# Here we create a legend:\n",
    "# we'll plot empty lists with the desired size and label \n",
    "for area in [100, 300, 500]: \n",
    "    plt.scatter([], [], c='k', alpha=0.3, s=area, label=str(area) + ' km$^2$')\n",
    "    plt.legend(scatterpoints=1, frameon=False, labelspacing=1, title='City Area')\n",
    "plt.title('California Cities: Area and Population');"
=======
   "execution_count": 51,
   "metadata": {},
   "outputs": [
    {
     "data": {
      "text/plain": [
       "California  2000    33871648\n",
       "            2010    37253956\n",
       "New York    2000    18976457\n",
       "            2010    19378102\n",
       "Texas       2000    20851820\n",
       "            2010    25145561\n",
       "dtype: int64"
      ]
     },
     "execution_count": 51,
     "metadata": {},
     "output_type": "execute_result"
    }
   ],
   "source": [
    "pop = pop.reindex(index)\n",
    "pop"
>>>>>>> 83b1516f9ff9761c2787f803a8d9b0008e50ca5f
   ]
  },
  {
   "cell_type": "code",
<<<<<<< HEAD
   "execution_count": 61,
   "metadata": {},
   "outputs": [
    {
     "name": "stdout",
     "output_type": "stream",
     "text": [
      " Volume in drive C is Windows\n",
      " Volume Serial Number is 4089-36A9\n",
      "\n",
      " Directory of C:\\Users\\pc\\PythonFiles\\PythonDataScienceHandbook\n",
      "\n",
      "11/11/2017  03:39 PM    <DIR>          .\n",
      "11/11/2017  03:39 PM    <DIR>          ..\n",
      "07/11/2017  06:15 PM             1,341 .gitignore\n",
      "07/11/2017  06:15 PM               265 .gitmodules\n",
      "09/11/2017  02:49 PM    <DIR>          .ipynb_checkpoints\n",
      "08/11/2017  06:08 PM        22,321,280 [Vanderplas] PythonDataScienceHandbook.pdf\n",
      "11/11/2017  03:39 PM            63,081 HandbookWorkAlong.ipynb\n",
      "07/11/2017  06:15 PM             1,104 LICENSE-CODE\n",
      "07/11/2017  06:15 PM            18,958 LICENSE-TEXT\n",
      "07/11/2017  06:15 PM    <DIR>          notebooks\n",
      "07/11/2017  06:15 PM             2,660 README.md\n",
      "07/11/2017  06:15 PM               228 requirements.txt\n",
      "07/11/2017  06:15 PM    <DIR>          tools\n",
      "07/11/2017  06:15 PM    <DIR>          website\n",
      "               8 File(s)     22,408,917 bytes\n",
      "               6 Dir(s)  32,349,855,744 bytes free\n"
     ]
    }
   ],
   "source": [
    "ls"
=======
   "execution_count": 52,
   "metadata": {},
   "outputs": [
    {
     "data": {
      "text/plain": [
       "California    37253956\n",
       "New York      19378102\n",
       "Texas         25145561\n",
       "dtype: int64"
      ]
     },
     "execution_count": 52,
     "metadata": {},
     "output_type": "execute_result"
    }
   ],
   "source": [
    "pop[:, 2010]"
   ]
  },
  {
   "cell_type": "code",
   "execution_count": 53,
   "metadata": {},
   "outputs": [
    {
     "data": {
      "text/html": [
       "<div>\n",
       "<style>\n",
       "    .dataframe thead tr:only-child th {\n",
       "        text-align: right;\n",
       "    }\n",
       "\n",
       "    .dataframe thead th {\n",
       "        text-align: left;\n",
       "    }\n",
       "\n",
       "    .dataframe tbody tr th {\n",
       "        vertical-align: top;\n",
       "    }\n",
       "</style>\n",
       "<table border=\"1\" class=\"dataframe\">\n",
       "  <thead>\n",
       "    <tr style=\"text-align: right;\">\n",
       "      <th></th>\n",
       "      <th></th>\n",
       "      <th>total</th>\n",
       "      <th>under18</th>\n",
       "    </tr>\n",
       "  </thead>\n",
       "  <tbody>\n",
       "    <tr>\n",
       "      <th rowspan=\"2\" valign=\"top\">California</th>\n",
       "      <th>2000</th>\n",
       "      <td>33871648</td>\n",
       "      <td>9267089</td>\n",
       "    </tr>\n",
       "    <tr>\n",
       "      <th>2010</th>\n",
       "      <td>37253956</td>\n",
       "      <td>9284094</td>\n",
       "    </tr>\n",
       "    <tr>\n",
       "      <th rowspan=\"2\" valign=\"top\">New York</th>\n",
       "      <th>2000</th>\n",
       "      <td>18976457</td>\n",
       "      <td>4687374</td>\n",
       "    </tr>\n",
       "    <tr>\n",
       "      <th>2010</th>\n",
       "      <td>19378102</td>\n",
       "      <td>4318033</td>\n",
       "    </tr>\n",
       "    <tr>\n",
       "      <th rowspan=\"2\" valign=\"top\">Texas</th>\n",
       "      <th>2000</th>\n",
       "      <td>20851820</td>\n",
       "      <td>5906301</td>\n",
       "    </tr>\n",
       "    <tr>\n",
       "      <th>2010</th>\n",
       "      <td>25145561</td>\n",
       "      <td>6879014</td>\n",
       "    </tr>\n",
       "  </tbody>\n",
       "</table>\n",
       "</div>"
      ],
      "text/plain": [
       "                    total  under18\n",
       "California 2000  33871648  9267089\n",
       "           2010  37253956  9284094\n",
       "New York   2000  18976457  4687374\n",
       "           2010  19378102  4318033\n",
       "Texas      2000  20851820  5906301\n",
       "           2010  25145561  6879014"
      ]
     },
     "execution_count": 53,
     "metadata": {},
     "output_type": "execute_result"
    }
   ],
   "source": [
    "pop_df = pd.DataFrame({'total': pop,\n",
    "                       'under18': [9267089, 9284094,\n",
    "                                   4687374, 4318033,\n",
    "                                   5906301, 6879014]})\n",
    "pop_df"
   ]
  },
  {
   "cell_type": "code",
   "execution_count": 56,
   "metadata": {},
   "outputs": [
    {
     "data": {
      "text/plain": [
       "California  2000    0.273594\n",
       "            2010    0.249211\n",
       "New York    2000    0.247010\n",
       "            2010    0.222831\n",
       "Texas       2000    0.283251\n",
       "            2010    0.273568\n",
       "dtype: float64"
      ]
     },
     "execution_count": 56,
     "metadata": {},
     "output_type": "execute_result"
    }
   ],
   "source": [
    "percent_u18 = pop_df['under18']/pop_df['total']\n",
    "percent_u18"
   ]
  },
  {
   "cell_type": "code",
   "execution_count": 58,
   "metadata": {},
   "outputs": [
    {
     "data": {
      "text/html": [
       "<div>\n",
       "<style>\n",
       "    .dataframe thead tr:only-child th {\n",
       "        text-align: right;\n",
       "    }\n",
       "\n",
       "    .dataframe thead th {\n",
       "        text-align: left;\n",
       "    }\n",
       "\n",
       "    .dataframe tbody tr th {\n",
       "        vertical-align: top;\n",
       "    }\n",
       "</style>\n",
       "<table border=\"1\" class=\"dataframe\">\n",
       "  <thead>\n",
       "    <tr style=\"text-align: right;\">\n",
       "      <th></th>\n",
       "      <th>2000</th>\n",
       "      <th>2010</th>\n",
       "    </tr>\n",
       "  </thead>\n",
       "  <tbody>\n",
       "    <tr>\n",
       "      <th>California</th>\n",
       "      <td>0.273594</td>\n",
       "      <td>0.249211</td>\n",
       "    </tr>\n",
       "    <tr>\n",
       "      <th>New York</th>\n",
       "      <td>0.247010</td>\n",
       "      <td>0.222831</td>\n",
       "    </tr>\n",
       "    <tr>\n",
       "      <th>Texas</th>\n",
       "      <td>0.283251</td>\n",
       "      <td>0.273568</td>\n",
       "    </tr>\n",
       "  </tbody>\n",
       "</table>\n",
       "</div>"
      ],
      "text/plain": [
       "                2000      2010\n",
       "California  0.273594  0.249211\n",
       "New York    0.247010  0.222831\n",
       "Texas       0.283251  0.273568"
      ]
     },
     "execution_count": 58,
     "metadata": {},
     "output_type": "execute_result"
    }
   ],
   "source": [
    "percent_u18.unstack()"
>>>>>>> 83b1516f9ff9761c2787f803a8d9b0008e50ca5f
   ]
  },
  {
   "cell_type": "code",
   "execution_count": null,
   "metadata": {
    "collapsed": true
   },
   "outputs": [],
   "source": []
  }
 ],
 "metadata": {
  "kernelspec": {
   "display_name": "Python 3",
   "language": "python",
   "name": "python3"
  },
  "language_info": {
   "codemirror_mode": {
    "name": "ipython",
    "version": 3
   },
   "file_extension": ".py",
   "mimetype": "text/x-python",
   "name": "python",
   "nbconvert_exporter": "python",
   "pygments_lexer": "ipython3",
   "version": "3.6.1"
  }
 },
 "nbformat": 4,
 "nbformat_minor": 2
}
